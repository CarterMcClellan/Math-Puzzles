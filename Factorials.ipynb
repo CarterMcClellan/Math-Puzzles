{
 "cells": [
  {
   "cell_type": "markdown",
   "metadata": {},
   "source": [
    "### Naive Approaches"
   ]
  },
  {
   "cell_type": "code",
   "execution_count": 1,
   "metadata": {},
   "outputs": [],
   "source": [
    "from operator import mul\n",
    "from functools import reduce"
   ]
  },
  {
   "cell_type": "code",
   "execution_count": 2,
   "metadata": {},
   "outputs": [],
   "source": [
    "def naive_factorial(n):\n",
    "    res = 1\n",
    "    for i in range(2, n+1):\n",
    "        res *= i\n",
    "    return res"
   ]
  },
  {
   "cell_type": "code",
   "execution_count": 3,
   "metadata": {},
   "outputs": [],
   "source": [
    "def naive_factorial_2(n):\n",
    "    return reduce(mul, list(range(1, n+1)))"
   ]
  },
  {
   "cell_type": "markdown",
   "metadata": {},
   "source": [
    "### Dynamic Programming"
   ]
  },
  {
   "cell_type": "code",
   "execution_count": 4,
   "metadata": {},
   "outputs": [
    {
     "data": {
      "text/plain": [
       "[1, 2, 6, 24, 120, 720]"
      ]
     },
     "execution_count": 4,
     "metadata": {},
     "output_type": "execute_result"
    }
   ],
   "source": [
    "def factorial_table(N):\n",
    "    # the most sensible way to compute a sequence of factorials\n",
    "    # is to use the previous terms\n",
    "    table = [1] * N\n",
    "    for i in range(1, N):\n",
    "        table[i] = table[i-1] * (i+1)\n",
    "    return table\n",
    "\n",
    "factorial_table(6)"
   ]
  },
  {
   "cell_type": "markdown",
   "metadata": {},
   "source": [
    "### Math"
   ]
  },
  {
   "cell_type": "code",
   "execution_count": 5,
   "metadata": {},
   "outputs": [],
   "source": [
    "import math\n",
    "import numpy as np\n",
    "from scipy.special import gamma"
   ]
  },
  {
   "cell_type": "code",
   "execution_count": 6,
   "metadata": {},
   "outputs": [],
   "source": [
    "def stirling(n):\n",
    "    return math.sqrt(2*math.pi*n)*pow((n/math.e), n)"
   ]
  },
  {
   "cell_type": "code",
   "execution_count": 7,
   "metadata": {},
   "outputs": [],
   "source": [
    "def gamma_factorial(n):\n",
    "    # note this is not exact\n",
    "    # gamma_factorial(100) != math.factorial(100)\n",
    "    return gamma(n + 1)"
   ]
  },
  {
   "cell_type": "markdown",
   "metadata": {},
   "source": [
    "### Tree Based Factorial Algorithms"
   ]
  },
  {
   "cell_type": "code",
   "execution_count": 8,
   "metadata": {},
   "outputs": [],
   "source": [
    "import multiprocessing as mp\n",
    "\n",
    "from operator import mul\n",
    "from functools import reduce\n",
    "from itertools import starmap"
   ]
  },
  {
   "cell_type": "code",
   "execution_count": 9,
   "metadata": {},
   "outputs": [],
   "source": [
    "def binary_factorial(n):\n",
    "    # break up n factorial into n smaller prods\n",
    "    # (1, 2), (2, 3), ... (n-1, n)\n",
    "    if n % 2 == 0:\n",
    "        values = starmap(mul, zip(range(1, n+1, 2), range(2, n+1, 2)))\n",
    "        return reduce(mul, values)\n",
    "    else:\n",
    "        values = starmap(mul, zip(range(1, n+1, 2), range(2, n+1, 2)))\n",
    "        return reduce(mul, values) * n"
   ]
  },
  {
   "cell_type": "code",
   "execution_count": 10,
   "metadata": {},
   "outputs": [],
   "source": [
    "def mp_binary_factorial(n, NUM_CORES=16):\n",
    "    # same methodology as binary factorial\n",
    "    with mp.Pool(processes=NUM_CORES) as pool:\n",
    "        values = pool.starmap(mul, zip(range(1, n+1, 2), range(2, n+1, 2)))\n",
    "    \n",
    "    if n % 2 != 0:\n",
    "        values += [n]\n",
    "    \n",
    "    return reduce(mul, values)"
   ]
  },
  {
   "cell_type": "code",
   "execution_count": 11,
   "metadata": {},
   "outputs": [],
   "source": [
    "def binary_factorial_2(n):\n",
    "    # break up the factorial into n smaller prods\n",
    "    # but divide the entire second sequence by 2\n",
    "    # pulling the term out in front\n",
    "    if n % 2 == 0:\n",
    "        values = starmap(mul, zip(range(1, n+1, 2), range(1, n+1, 1)))\n",
    "        return reduce(mul, values) * ( 1<< (n//2) )\n",
    "    else:\n",
    "        values = starmap(mul, zip(range(1, n+1, 2), range(1, n//2 + 1, 1)))\n",
    "        return reduce(mul, values) * ( 1<< (n//2) ) * n"
   ]
  },
  {
   "cell_type": "markdown",
   "metadata": {},
   "source": [
    "### Applications of a Prime Factorization\n",
    "Consider $6!$\n",
    "$$6! = 1 \\cdot 2 \\cdot 3 \\cdot 4 \\cdot 5 \\cdot 6 = 2^4 \\cdot 3^2 \\cdot 5 = 720$$\n",
    "\n",
    "We can see that in the sequence $1, 2, 3, 4, 5, 6$ \n",
    "- 2 occurs 4 times\n",
    "- 3 occurs twice\n",
    "- 5 appears once\n",
    "\n",
    "Is there a closed form function to compute the numbers of times each prime appears between 1 and n?\n",
    "*yes*, is it called [Legendre's Formula](https://en.wikipedia.org/wiki/Legendre%27s_formula)\n",
    "\n",
    "**Legendre's Formula**\n",
    "\n",
    "Let $\\nu_p(n!)$ denote the number of times $p$ occurs in $n!$\n",
    "\n",
    "$$\\nu_p(n!) = \\sum_{i}^n \\frac{n}{p^i}$$\n",
    "\n",
    "This is actually trivial to prove. \n",
    "- Start with a prime, eg. 2, it has 3 multiples less than or equal to 6 (6/2 = 3)\n",
    "- Note that we only counted 4 once, despite the fact that it holds 2 2's. So add the additional 2 (6/4 = 1)"
   ]
  },
  {
   "cell_type": "code",
   "execution_count": 12,
   "metadata": {},
   "outputs": [
    {
     "data": {
      "text/plain": [
       "(4, 2, 1)"
      ]
     },
     "execution_count": 12,
     "metadata": {},
     "output_type": "execute_result"
    }
   ],
   "source": [
    "def legendre(n, p):\n",
    "    return sum([n//p**i for i in range(1, n)])\n",
    "\n",
    "legendre(6, 2), legendre(6, 3), legendre(6, 5)"
   ]
  },
  {
   "cell_type": "markdown",
   "metadata": {},
   "source": [
    "Finding all of the prime factors of an integer $n$ using the sieve of eratosthenes"
   ]
  },
  {
   "cell_type": "code",
   "execution_count": 13,
   "metadata": {},
   "outputs": [],
   "source": [
    "import numpy as np\n",
    "import math"
   ]
  },
  {
   "cell_type": "code",
   "execution_count": 14,
   "metadata": {},
   "outputs": [],
   "source": [
    "def eratosthenes_sieve_v3(N, include_one=False):\n",
    "    l = np.ones(N, dtype=np.bool)\n",
    "    \n",
    "    find_multiples = lambda n, C : [i*n-1 for i in range(2, C//n +1)]\n",
    "    upper_bound = math.ceil(math.sqrt(N))\n",
    "    for val in range(2, upper_bound+1):\n",
    "        if l[val-1]:\n",
    "            multiples = find_multiples(val, N)\n",
    "            l[multiples] = False\n",
    "            \n",
    "    primes = set((np.nonzero(l)[0] + 1).tolist())\n",
    "    if not include_one:\n",
    "        primes.remove(1)\n",
    "    return primes"
   ]
  },
  {
   "cell_type": "code",
   "execution_count": 15,
   "metadata": {},
   "outputs": [],
   "source": [
    "def prime_factorial(n):\n",
    "    res = 1\n",
    "    for p in eratosthenes_sieve_v3(n):\n",
    "        alpha = legendre(n, p)\n",
    "        if p == 2:\n",
    "            res <<= alpha\n",
    "        else:\n",
    "            res *= pow(p, alpha)\n",
    "            \n",
    "    return res"
   ]
  },
  {
   "cell_type": "markdown",
   "metadata": {},
   "source": [
    "### Moessnar and the Triangular Factorials\n",
    "[Link to Blog Post](https://topic.alibabacloud.com/a/another-interesting-algorithm-for-calculating-font-colorredfactorialfont_8_8_31867939.html)"
   ]
  },
  {
   "cell_type": "markdown",
   "metadata": {},
   "source": [
    "### Python Internals\n",
    "The algorithm used to multiply smaller integers is not the same as the algorithm used to multiply larger integers. You can see [here](https://github.com/python/cpython/blob/main/Objects/longobject.c#L81) in the python internals, that if an integer is more than 70 digits long, the Karatsuba multiplication algorithm is used."
   ]
  }
 ],
 "metadata": {
  "kernelspec": {
   "display_name": "Python 3",
   "language": "python",
   "name": "python3"
  },
  "language_info": {
   "codemirror_mode": {
    "name": "ipython",
    "version": 3
   },
   "file_extension": ".py",
   "mimetype": "text/x-python",
   "name": "python",
   "nbconvert_exporter": "python",
   "pygments_lexer": "ipython3",
   "version": "3.8.5"
  }
 },
 "nbformat": 4,
 "nbformat_minor": 2
}
