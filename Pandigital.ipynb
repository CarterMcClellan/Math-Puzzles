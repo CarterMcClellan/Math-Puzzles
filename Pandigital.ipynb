{
 "cells": [
  {
   "cell_type": "code",
   "execution_count": 1,
   "metadata": {},
   "outputs": [],
   "source": [
    "import math"
   ]
  },
  {
   "cell_type": "code",
   "execution_count": 2,
   "metadata": {},
   "outputs": [],
   "source": [
    "def is_pandigital_naive(n):\n",
    "    d = {1: '1',\n",
    "         2: '12',\n",
    "         3: '123',\n",
    "         4: '1234',\n",
    "         5: '12345',\n",
    "         6: '123456',\n",
    "         7: '1234567',\n",
    "         8: '12345678',\n",
    "         9: '123456789'}\n",
    "    \n",
    "    s = str(n)\n",
    "    l = len(s)\n",
    "    return \"\".join(sorted(s)) == d[l]"
   ]
  },
  {
   "cell_type": "code",
   "execution_count": 3,
   "metadata": {},
   "outputs": [],
   "source": [
    "def pandigital_benchmark(method, N):\n",
    "    s, e = \"1e{}\".format(N-1), \"1e{}\".format(N)\n",
    "    start = int(eval(s))\n",
    "    end = int(eval(e))\n",
    "    pandigital_nums = [i for i in range(start, end) if method(i)]\n",
    "    assert len(pandigital_nums) == math.factorial(N), \"Misclassified pandigital num\""
   ]
  },
  {
   "cell_type": "code",
   "execution_count": 6,
   "metadata": {},
   "outputs": [],
   "source": [
    "pandigital_benchmark(is_pandigital_naive, 8)"
   ]
  }
 ],
 "metadata": {
  "kernelspec": {
   "display_name": "Python 3",
   "language": "python",
   "name": "python3"
  },
  "language_info": {
   "codemirror_mode": {
    "name": "ipython",
    "version": 3
   },
   "file_extension": ".py",
   "mimetype": "text/x-python",
   "name": "python",
   "nbconvert_exporter": "python",
   "pygments_lexer": "ipython3",
   "version": "3.8.5"
  }
 },
 "nbformat": 4,
 "nbformat_minor": 4
}
