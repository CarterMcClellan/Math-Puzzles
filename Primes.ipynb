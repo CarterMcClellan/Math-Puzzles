{
 "cells": [
  {
   "cell_type": "code",
   "execution_count": 33,
   "metadata": {},
   "outputs": [],
   "source": [
    "from time import time\n",
    "import matplotlib.pyplot as plt"
   ]
  },
  {
   "cell_type": "code",
   "execution_count": 2,
   "metadata": {},
   "outputs": [],
   "source": [
    "def timeit(f):\n",
    "    def timed(*args, **kw):\n",
    "\n",
    "        ts = time()\n",
    "        result = f(*args, **kw)\n",
    "        te = time()\n",
    "\n",
    "        elapsed = (te-ts)\n",
    "        return result, elapsed\n",
    "\n",
    "    return timed"
   ]
  },
  {
   "cell_type": "markdown",
   "metadata": {},
   "source": [
    "# Primes"
   ]
  },
  {
   "cell_type": "markdown",
   "metadata": {},
   "source": [
    "## Sieves\n",
    "**Eratosthenes Sieve**\n",
    "- A number N is prime, if all primes less than N do not divide evenly into N\n",
    " \n",
    "**Pf by Contradiction**\n",
    "- Assume there is a number less than N which divides N and is not prime. Call said number c. By definition c would be composite and therefore could be expressed as some combination of the other primes. Contradiction."
   ]
  },
  {
   "cell_type": "code",
   "execution_count": 22,
   "metadata": {},
   "outputs": [],
   "source": [
    "@timeit\n",
    "def eratosthenes_sieve(n):\n",
    "    \"\"\" find all primes less than n \"\"\"\n",
    "    known_primes = set()\n",
    "    for i in range(2, n+1):\n",
    "        if eratosthenes_primality(known_primes, i):\n",
    "            known_primes.add(i)\n",
    "    known_primes.add(1)\n",
    "    return known_primes\n",
    "            \n",
    "def eratosthenes_primality(known_primes, i):\n",
    "    return all(i % p != 0 for p in known_primes)"
   ]
  },
  {
   "cell_type": "code",
   "execution_count": 24,
   "metadata": {},
   "outputs": [],
   "source": [
    "primes, runtime = eratosthenes_sieve(100)"
   ]
  },
  {
   "cell_type": "markdown",
   "metadata": {},
   "source": [
    "### Erathoneses Sieve v2"
   ]
  },
  {
   "cell_type": "code",
   "execution_count": 26,
   "metadata": {},
   "outputs": [],
   "source": [
    "import numpy as np"
   ]
  },
  {
   "cell_type": "code",
   "execution_count": 27,
   "metadata": {},
   "outputs": [],
   "source": [
    "def find_multiples(n, C):\n",
    "    \"\"\" find all multuples of a number n which are less than C \"\"\"\n",
    "    return [i*n-1 for i in range(1, C//n +1)]"
   ]
  },
  {
   "cell_type": "code",
   "execution_count": 28,
   "metadata": {},
   "outputs": [],
   "source": [
    "@timeit\n",
    "def erathoneses_sieve_v2(N):\n",
    "    l = np.array([True] * N)\n",
    "    primes = set([1])\n",
    "    for val in range(2, N+1):\n",
    "        if l[val-1]:\n",
    "            multiples = find_multiples(val, N)\n",
    "            l[multiples] = False\n",
    "            primes.add(val)\n",
    "            \n",
    "    return primes"
   ]
  },
  {
   "cell_type": "markdown",
   "metadata": {},
   "source": [
    "### Comparing Sieves"
   ]
  },
  {
   "cell_type": "code",
   "execution_count": 32,
   "metadata": {},
   "outputs": [],
   "source": [
    "runtime_1 = []\n",
    "runtime_2 = []\n",
    "for N in range(100, 10000, 100):\n",
    "    primes, runtime = eratosthenes_sieve(N)\n",
    "    runtime_1.append((N, runtime))\n",
    "    primes, runtime = erathoneses_sieve_v2(N)\n",
    "    runtime_2.append((N, runtime))"
   ]
  },
  {
   "cell_type": "code",
   "execution_count": 34,
   "metadata": {},
   "outputs": [
    {
     "data": {
      "text/plain": [
       "<matplotlib.collections.PathCollection at 0x114d9f580>"
      ]
     },
     "execution_count": 34,
     "metadata": {},
     "output_type": "execute_result"
    },
    {
     "data": {
      "image/png": "[encoded data removed]",
      "text/plain": [
       "<Figure size 432x288 with 1 Axes>"
      ]
     },
     "metadata": {
      "needs_background": "light"
     },
     "output_type": "display_data"
    }
   ],
   "source": [
    "x, y = zip(*runtime_1)\n",
    "plt.scatter(x=x, y=y)"
   ]
  },
  {
   "cell_type": "code",
   "execution_count": 35,
   "metadata": {},
   "outputs": [
    {
     "data": {
      "text/plain": [
       "<matplotlib.collections.PathCollection at 0x114dba130>"
      ]
     },
     "execution_count": 35,
     "metadata": {},
     "output_type": "execute_result"
    },
    {
     "data": {
      "image/png": "[encoded data removed]",
      "text/plain": [
       "<Figure size 432x288 with 1 Axes>"
      ]
     },
     "metadata": {
      "needs_background": "light"
     },
     "output_type": "display_data"
    }
   ],
   "source": [
    "x, y = zip(*runtime_2)\n",
    "plt.scatter(x=x, y=y)"
   ]
  },
  {
   "cell_type": "markdown",
   "metadata": {},
   "source": [
    "## Prime Factors"
   ]
  },
  {
   "cell_type": "code",
   "execution_count": null,
   "metadata": {},
   "outputs": [],
   "source": [
    "def prime_factors(n):\n",
    "    \"\"\" find all prime factors of a number n\"\"\"\n",
    "    known_primes = set()\n",
    "    prime_factors = set()\n",
    "    for i in range(2, n+1):\n",
    "        if n in known_primes or n == 1.: \n",
    "            break\n",
    "        if euclid_primality(known_primes, i):\n",
    "            known_primes.add(i)\n",
    "            if n % i == 0:\n",
    "                n = n / i\n",
    "                prime_factors.add(i)\n",
    "                \n",
    "    return prime_factors"
   ]
  },
  {
   "cell_type": "code",
   "execution_count": null,
   "metadata": {},
   "outputs": [],
   "source": [
    "prime_factors(42)"
   ]
  },
  {
   "cell_type": "markdown",
   "metadata": {},
   "source": [
    "### Prime Factorization"
   ]
  },
  {
   "cell_type": "code",
   "execution_count": null,
   "metadata": {},
   "outputs": [],
   "source": [
    "def prime_factorization(n):\n",
    "    if n == 1: return [1]\n",
    "    known_primes = set()\n",
    "    prime_factors = []\n",
    "    for i in range(2, n+1):\n",
    "        # if we have reduced our original number to 1\n",
    "        # we exit, factorization complete\n",
    "        if n == 1.: \n",
    "            break\n",
    "        \n",
    "        # if n is prime\n",
    "        if euclid_primality(known_primes, i):\n",
    "            known_primes.add(i)\n",
    "            while n % i == 0:\n",
    "                n = n / i\n",
    "                prime_factors.append(i)\n",
    "                \n",
    "    return prime_factors\n",
    "\n",
    "def eratosthenes_primality(known_primes, i):\n",
    "    return all(i % p != 0 for p in known_primes)"
   ]
  }
 ],
 "metadata": {
  "kernelspec": {
   "display_name": "Python 3",
   "language": "python",
   "name": "python3"
  },
  "language_info": {
   "codemirror_mode": {
    "name": "ipython",
    "version": 3
   },
   "file_extension": ".py",
   "mimetype": "text/x-python",
   "name": "python",
   "nbconvert_exporter": "python",
   "pygments_lexer": "ipython3",
   "version": "3.8.5"
  }
 },
 "nbformat": 4,
 "nbformat_minor": 2
}
