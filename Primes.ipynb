{
 "cells": [
  {
   "cell_type": "code",
   "execution_count": 3,
   "metadata": {},
   "outputs": [],
   "source": [
    "# Standard Lib\n",
    "from time import time\n",
    "\n",
    "# Visualization\n",
    "import matplotlib.pyplot as plt\n",
    "\n",
    "# Advanced Array Manipulation\n",
    "import numpy as np"
   ]
  },
  {
   "cell_type": "code",
   "execution_count": 4,
   "metadata": {},
   "outputs": [],
   "source": [
    "def timeit(f):\n",
    "    def timed(*args, **kw):\n",
    "\n",
    "        ts = time()\n",
    "        result = f(*args, **kw)\n",
    "        te = time()\n",
    "\n",
    "        elapsed = (te-ts)\n",
    "        return result, elapsed\n",
    "\n",
    "    return timed"
   ]
  },
  {
   "cell_type": "code",
   "execution_count": null,
   "metadata": {},
   "outputs": [],
   "source": [
    "def compare_funcs(func_1, func_2):\n",
    "    runtime_1 = []\n",
    "    runtime_2 = []\n",
    "    for N in range(100, 10000, 100):\n",
    "        result, elapsed = func_1(N)\n",
    "        runtime_1.append((N, runtime))\n",
    "        primes, runtime = func_2(N)\n",
    "        runtime_2.append((N, runtime))\n",
    "\n",
    "    x, y = zip(*runtime_1)\n",
    "    plt.scatter(x=x, y=y)\n",
    "\n",
    "    x, y = zip(*runtime_2)\n",
    "    plt.scatter(x=x, y=y)"
   ]
  },
  {
   "cell_type": "markdown",
   "metadata": {},
   "source": [
    "# Primes"
   ]
  },
  {
   "cell_type": "markdown",
   "metadata": {},
   "source": [
    "## Sieves\n",
    "**Eratosthenes Sieve**\n",
    "- A number N is prime, if all primes less than N do not divide evenly into N\n",
    " \n",
    "**Pf by Contradiction**\n",
    "- Assume there is a number less than N which divides N and is not prime. Call said number c. By definition c would be composite and therefore could be expressed as some combination of the other primes. Contradiction."
   ]
  },
  {
   "cell_type": "code",
   "execution_count": null,
   "metadata": {},
   "outputs": [],
   "source": [
    "@timeit\n",
    "def eratosthenes_sieve(n):\n",
    "    \"\"\" find all primes less than n \"\"\"\n",
    "    known_primes = set()\n",
    "    for i in range(2, n+1):\n",
    "        if eratosthenes_primality(known_primes, i):\n",
    "            known_primes.add(i)\n",
    "    known_primes.add(1)\n",
    "    return known_primes\n",
    "            \n",
    "def eratosthenes_primality(known_primes, i):\n",
    "    return all(i % p != 0 for p in known_primes)"
   ]
  },
  {
   "cell_type": "code",
   "execution_count": null,
   "metadata": {},
   "outputs": [],
   "source": [
    "primes, runtime = eratosthenes_sieve(100)"
   ]
  },
  {
   "cell_type": "markdown",
   "metadata": {},
   "source": [
    "### Erathoneses Sieve v2\n",
    "Note: The above sieve knows 2 is prime but still wastes time checking all its mutiples\n",
    "$$4, 6, 8, 10 \\ldots $$\n",
    "The easiest way to skip this? Calculate all the multiples of 2 less than N, and mark them as visited."
   ]
  },
  {
   "cell_type": "code",
   "execution_count": null,
   "metadata": {},
   "outputs": [],
   "source": [
    "def find_multiples(n, C):\n",
    "    \"\"\" find all multuples of a number n which are less than C \"\"\"\n",
    "    return [i*n-1 for i in range(1, C//n +1)]"
   ]
  },
  {
   "cell_type": "code",
   "execution_count": null,
   "metadata": {},
   "outputs": [],
   "source": [
    "@timeit\n",
    "def erathoneses_sieve_v2(N):\n",
    "    l = np.array([True] * N)\n",
    "    primes = set([1])\n",
    "    for val in range(2, N+1):\n",
    "        if l[val-1]:\n",
    "            multiples = find_multiples(val, N)\n",
    "            l[multiples] = False\n",
    "            primes.add(val)\n",
    "            \n",
    "    return primes"
   ]
  },
  {
   "cell_type": "markdown",
   "metadata": {},
   "source": [
    "### Comparing Sieves"
   ]
  },
  {
   "cell_type": "code",
   "execution_count": null,
   "metadata": {},
   "outputs": [],
   "source": []
  },
  {
   "cell_type": "markdown",
   "metadata": {},
   "source": [
    "## Prime Factors"
   ]
  },
  {
   "cell_type": "code",
   "execution_count": null,
   "metadata": {},
   "outputs": [],
   "source": [
    "def prime_factors(n):\n",
    "    \"\"\" find all prime factors of a number n\"\"\"\n",
    "    known_primes = set()\n",
    "    prime_factors = set()\n",
    "    for i in range(2, n+1):\n",
    "        if n in known_primes or n == 1.: \n",
    "            break\n",
    "        if euclid_primality(known_primes, i):\n",
    "            known_primes.add(i)\n",
    "            if n % i == 0:\n",
    "                n = n / i\n",
    "                prime_factors.add(i)\n",
    "                \n",
    "    return prime_factors"
   ]
  },
  {
   "cell_type": "code",
   "execution_count": null,
   "metadata": {},
   "outputs": [],
   "source": [
    "prime_factors(42)"
   ]
  },
  {
   "cell_type": "markdown",
   "metadata": {},
   "source": [
    "### Prime Factorization"
   ]
  },
  {
   "cell_type": "code",
   "execution_count": null,
   "metadata": {},
   "outputs": [],
   "source": [
    "def prime_factorization(n):\n",
    "    if n == 1: return [1]\n",
    "    known_primes = set()\n",
    "    prime_factors = []\n",
    "    for i in range(2, n+1):\n",
    "        # if we have reduced our original number to 1\n",
    "        # we exit, factorization complete\n",
    "        if n == 1.: \n",
    "            break\n",
    "        \n",
    "        # if n is prime\n",
    "        if eratosthenes_primality(known_primes, i):\n",
    "            known_primes.add(i)\n",
    "            tmp = []\n",
    "            while n % i == 0:\n",
    "                n = n / i\n",
    "                tmp.append(i)\n",
    "            if tmp:\n",
    "                prime_factors.append(tmp)\n",
    "                \n",
    "    return prime_factors\n",
    "\n",
    "def eratosthenes_primality(known_primes, i):\n",
    "    return all(i % p != 0 for p in known_primes)"
   ]
  },
  {
   "cell_type": "markdown",
   "metadata": {},
   "source": [
    "### Number of Divisors"
   ]
  },
  {
   "cell_type": "code",
   "execution_count": null,
   "metadata": {},
   "outputs": [],
   "source": [
    "# start by finding all the prime factors\n",
    "# then fill in all the numbers in between\n",
    "def num_factors(N):\n",
    "    prime_factors = prime_factorization(N)\n",
    "    num_factors_ = 0\n",
    "    N = len(prime_factors)\n",
    "    \n",
    "    # note: prime factorization does not count\n",
    "    # 1, so we increment to include that\n",
    "    if N == 1:\n",
    "        return len(prime_factors[0]) + 1 \n",
    "    for i in range(N):\n",
    "        for j in range(i+1, N):\n",
    "            num_factors_ += (len(prime_factors[i]) + 1) * (len(prime_factors[j]) + 1)\n",
    "    return num_factors_\n",
    "\n",
    "num_factors(6)"
   ]
  }
 ],
 "metadata": {
  "kernelspec": {
   "display_name": "Python 3",
   "language": "python",
   "name": "python3"
  },
  "language_info": {
   "codemirror_mode": {
    "name": "ipython",
    "version": 3
   },
   "file_extension": ".py",
   "mimetype": "text/x-python",
   "name": "python",
   "nbconvert_exporter": "python",
   "pygments_lexer": "ipython3",
   "version": "3.8.5"
  }
 },
 "nbformat": 4,
 "nbformat_minor": 2
}
