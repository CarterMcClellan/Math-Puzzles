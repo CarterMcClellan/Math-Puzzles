{
 "cells": [
  {
   "cell_type": "code",
   "execution_count": 38,
   "metadata": {},
   "outputs": [],
   "source": [
    "# a = m^2 - n^2\n",
    "# b = 2mn\n",
    "# c = n^2 + m^2\n",
    "def generate_triples(N):\n",
    "    triples = set()\n",
    "    for m in range(2, N):\n",
    "        for n in range(1, m):\n",
    "            triples.add((m**2 - n**2, 2*m*n, n**2 + m**2))\n",
    "            \n",
    "    return triples"
   ]
  },
  {
   "cell_type": "code",
   "execution_count": 39,
   "metadata": {},
   "outputs": [
    {
     "data": {
      "text/plain": [
       "{(3, 4, 5),\n",
       " (5, 12, 13),\n",
       " (7, 24, 25),\n",
       " (8, 6, 10),\n",
       " (9, 40, 41),\n",
       " (11, 60, 61),\n",
       " (12, 16, 20),\n",
       " (13, 84, 85),\n",
       " (15, 8, 17),\n",
       " (15, 112, 113),\n",
       " (16, 30, 34),\n",
       " (17, 144, 145),\n",
       " (20, 48, 52),\n",
       " (21, 20, 29),\n",
       " (24, 10, 26),\n",
       " (24, 70, 74),\n",
       " (27, 36, 45),\n",
       " (28, 96, 100),\n",
       " (32, 24, 40),\n",
       " (32, 126, 130),\n",
       " (33, 56, 65),\n",
       " (35, 12, 37),\n",
       " (39, 80, 89),\n",
       " (40, 42, 58),\n",
       " (45, 28, 53),\n",
       " (45, 108, 117),\n",
       " (48, 14, 50),\n",
       " (48, 64, 80),\n",
       " (55, 48, 73),\n",
       " (56, 90, 106),\n",
       " (60, 32, 68),\n",
       " (63, 16, 65),\n",
       " (65, 72, 97),\n",
       " (72, 54, 90),\n",
       " (77, 36, 85),\n",
       " (80, 18, 82)}"
      ]
     },
     "execution_count": 39,
     "metadata": {},
     "output_type": "execute_result"
    }
   ],
   "source": [
    "generate_triples(10)"
   ]
  }
 ],
 "metadata": {
  "kernelspec": {
   "display_name": "Python 3",
   "language": "python",
   "name": "python3"
  },
  "language_info": {
   "codemirror_mode": {
    "name": "ipython",
    "version": 3
   },
   "file_extension": ".py",
   "mimetype": "text/x-python",
   "name": "python",
   "nbconvert_exporter": "python",
   "pygments_lexer": "ipython3",
   "version": "3.8.5"
  }
 },
 "nbformat": 4,
 "nbformat_minor": 4
}
