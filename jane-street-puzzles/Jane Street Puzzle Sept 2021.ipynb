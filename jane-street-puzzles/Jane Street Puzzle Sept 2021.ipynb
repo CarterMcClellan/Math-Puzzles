{
 "cells": [
  {
   "cell_type": "code",
   "execution_count": 1,
   "metadata": {},
   "outputs": [],
   "source": [
    "%matplotlib inline\n",
    "import matplotlib.pyplot as plt\n",
    "from matplotlib.text import TextPath\n",
    "\n",
    "from random import randint, choice"
   ]
  },
  {
   "cell_type": "code",
   "execution_count": 2,
   "metadata": {},
   "outputs": [],
   "source": [
    "BOARD_WIDTH, BOARD_HEIGHT = 10, 10"
   ]
  },
  {
   "cell_type": "code",
   "execution_count": 3,
   "metadata": {},
   "outputs": [],
   "source": [
    "def knight_move(s, moves, w, h):\n",
    "    (x, y) = s\n",
    "    \n",
    "    dirs = [(-1,-2),(-2,-1),(-2,1),(-1,2),(1,-2),(2,-1),(2,1),(1,2)]\n",
    "    possible_moves = []\n",
    "    for (x_inc, y_inc) in dirs:\n",
    "        if 0 <= x+x_inc < w and 0 <= y+y_inc < h:\n",
    "            \n",
    "            # repeat squares are not allowed\n",
    "            if (x+x_inc, y+y_inc) not in moves:\n",
    "                possible_moves.append((x+x_inc, y+y_inc))\n",
    "    \n",
    "    return possible_moves"
   ]
  },
  {
   "cell_type": "code",
   "execution_count": 4,
   "metadata": {},
   "outputs": [],
   "source": [
    "pos = (randint(0, BOARD_WIDTH-1), randint(0, BOARD_HEIGHT-1))\n",
    "moves = []\n",
    "for _ in range(33):\n",
    "    moves += [pos]\n",
    "    pos = choice(knight_move(pos, moves, BOARD_WIDTH, BOARD_HEIGHT))"
   ]
  },
  {
   "cell_type": "code",
   "execution_count": 5,
   "metadata": {},
   "outputs": [],
   "source": [
    "def plot_board(w, h, moves, figsize=None, path=None):\n",
    "    \"\"\"Plot a maze by drawing lines between adjacent squares, except for pairs in maze.edges\"\"\"\n",
    "    plt.figure(figsize=figsize or (w/5, h/5))\n",
    "    plt.axis('off')\n",
    "    plt.gca().invert_yaxis()\n",
    "    \n",
    "    # iterate through all possible coordinates on the grid\n",
    "    for (x, y) in [(x, y) for x in range(w) for y in range(h)]:\n",
    "        \n",
    "        # iterate through all possible neighbors of all possible grid points\n",
    "        for nbr in [(x + 1, y), (x - 1, y), (x, y + 1), (x, y - 1)]:\n",
    "            \n",
    "            # paint the neighbor as a wall\n",
    "            plot_wall((x,y), nbr)\n",
    "    \n",
    "    for move_number, s in enumerate(moves):\n",
    "        plot_move(s, move_number+1)\n",
    "        \n",
    "def plot_wall(s1, s2):\n",
    "    \"\"\"Plot a wall: a black line between squares s1 and s2.\"\"\"\n",
    "    (x1, y1), (x2, y2) = s1, s2\n",
    "    if x1 == x2: # horizontal wall\n",
    "        y = max(y1, y2)\n",
    "        X, Y = [x1, x1+1], [y, y]\n",
    "    else: # vertical wall\n",
    "        x = max(x1, x2)\n",
    "        X, Y = [x, x], [y1, y1+1]\n",
    "    plt.plot(X, Y, 'k-', linewidth=2)\n",
    "    \n",
    "\n",
    "def plot_move(s, move_number):\n",
    "    \"\"\" plot a move made by a night \"\"\" \n",
    "    (x, y) = s\n",
    "    if type(move_number) == int:\n",
    "        move_number = str(move_number)\n",
    "        \n",
    "    path = TextPath(xy=(x,y), s=move_number)\n",
    "    plt.plot(x+.25, y+.75, marker=path, markersize=50, color='black')\n",
    "    "
   ]
  },
  {
   "cell_type": "code",
   "execution_count": 6,
   "metadata": {},
   "outputs": [
    {
     "data": {
      "image/png": "[encoded data removed]",
      "text/plain": [
       "<Figure size 720x720 with 1 Axes>"
      ]
     },
     "metadata": {
      "needs_background": "light"
     },
     "output_type": "display_data"
    }
   ],
   "source": [
    "plot_board(10, 10, moves, figsize=(10, 10))"
   ]
  },
  {
   "cell_type": "code",
   "execution_count": null,
   "metadata": {},
   "outputs": [],
   "source": [
    "def color_board():\n",
    "    # color the board regions st\n",
    "    # 1) no 2 adjacent regions are the same color\n",
    "    # 2) the sum of regions is the same\n",
    "    pass"
   ]
  }
 ],
 "metadata": {
  "kernelspec": {
   "display_name": "Python 3",
   "language": "python",
   "name": "python3"
  },
  "language_info": {
   "codemirror_mode": {
    "name": "ipython",
    "version": 3
   },
   "file_extension": ".py",
   "mimetype": "text/x-python",
   "name": "python",
   "nbconvert_exporter": "python",
   "pygments_lexer": "ipython3",
   "version": "3.7.6"
  }
 },
 "nbformat": 4,
 "nbformat_minor": 2
}
