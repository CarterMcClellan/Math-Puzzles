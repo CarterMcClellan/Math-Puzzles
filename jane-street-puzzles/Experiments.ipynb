{
 "cells": [
  {
   "cell_type": "code",
   "execution_count": 1,
   "metadata": {},
   "outputs": [
    {
     "name": "stdout",
     "output_type": "stream",
     "text": [
      "0 is a possible solution\n",
      "16 is a possible solution\n",
      "17 is a possible solution\n",
      "33 is a possible solution\n",
      "34 is a possible solution\n",
      "50 is a possible solution\n",
      "51 is a possible solution\n",
      "67 is a possible solution\n",
      "68 is a possible solution\n",
      "84 is a possible solution\n",
      "85 is a possible solution\n"
     ]
    }
   ],
   "source": [
    "for i in range(100):\n",
    "    total = (i + 1) * (i / 2)\n",
    "    if total % 17 == 0:\n",
    "        print(i, \"is a possible solution\")"
   ]
  },
  {
   "cell_type": "code",
   "execution_count": 2,
   "metadata": {},
   "outputs": [],
   "source": [
    "def slns(N, k):\n",
    "    \n",
    "    if ((N + 1)*N/2) % k != 0:\n",
    "        return \"This is not Possible\"\n",
    "    \n",
    "    res = set()\n",
    "    targ = ((N + 1)*N/2) / k\n",
    "    \n",
    "    def serialize(e):\n",
    "        \"\"\" sets can't dedupe [[1], [2]] and [[2], [1]] \"\"\"\n",
    "        e = sorted([sorted(v) for v in e])\n",
    "        return str(e)\n",
    "\n",
    "    def recurse(i, bags, N):\n",
    "        if i > N:\n",
    "            res.add(serialize(bags))\n",
    "            return\n",
    "\n",
    "        for idx in range(k):\n",
    "            # we can prune the recursion tree by\n",
    "            # checking the size of individual \"bags\"\n",
    "            total = sum(bags[idx])\n",
    "            \n",
    "            # if gt, break (this entire collection of bags is invalid)\n",
    "            if total > targ:\n",
    "                return\n",
    "            \n",
    "            # if equal (this bag could be legit we just dont want to fill it)\n",
    "            elif total == targ:\n",
    "                continue\n",
    "            \n",
    "            # if adding causes the bag to overflow, skip\n",
    "            elif total + i > targ:\n",
    "                continue\n",
    "                \n",
    "            # add i to the bag at idx\n",
    "            recurse(i+1, bags[:idx] + [[*bags[idx], i]] + bags[idx+1:], N)\n",
    "    \n",
    "    initial = [[] for _ in range(k)]\n",
    "    recurse(1, initial, N)\n",
    "    return res"
   ]
  },
  {
   "cell_type": "code",
   "execution_count": 5,
   "metadata": {},
   "outputs": [
    {
     "data": {
      "text/plain": [
       "{'[[1, 2, 3, 4, 5], [6, 9], [7, 8]]',\n",
       " '[[1, 2, 3, 9], [4, 5, 6], [7, 8]]',\n",
       " '[[1, 2, 4, 8], [3, 5, 7], [6, 9]]',\n",
       " '[[1, 2, 5, 7], [3, 4, 8], [6, 9]]',\n",
       " '[[1, 3, 4, 7], [2, 5, 8], [6, 9]]',\n",
       " '[[1, 3, 5, 6], [2, 4, 9], [7, 8]]',\n",
       " '[[1, 5, 9], [2, 3, 4, 6], [7, 8]]',\n",
       " '[[1, 5, 9], [2, 6, 7], [3, 4, 8]]',\n",
       " '[[1, 6, 8], [2, 4, 9], [3, 5, 7]]'}"
      ]
     },
     "execution_count": 5,
     "metadata": {},
     "output_type": "execute_result"
    }
   ],
   "source": [
    "slns(9, 3)"
   ]
  }
 ],
 "metadata": {
  "kernelspec": {
   "display_name": "Python 3",
   "language": "python",
   "name": "python3"
  },
  "language_info": {
   "codemirror_mode": {
    "name": "ipython",
    "version": 3
   },
   "file_extension": ".py",
   "mimetype": "text/x-python",
   "name": "python",
   "nbconvert_exporter": "python",
   "pygments_lexer": "ipython3",
   "version": "3.7.6"
  }
 },
 "nbformat": 4,
 "nbformat_minor": 2
}
