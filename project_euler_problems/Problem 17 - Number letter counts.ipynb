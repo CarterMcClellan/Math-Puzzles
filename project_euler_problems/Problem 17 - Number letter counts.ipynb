{
 "cells": [
  {
   "cell_type": "code",
   "execution_count": 92,
   "id": "ff0022cb",
   "metadata": {},
   "outputs": [],
   "source": [
    "words = { \"0\" : \"\",\n",
    "        \"1\" : \"one\",\n",
    "        \"2\" : \"two\",\n",
    "        \"3\" : \"three\",\n",
    "        \"4\" : \"four\",\n",
    "        \"5\" : \"five\",\n",
    "        \"6\" : \"six\", \n",
    "        \"7\" : \"seven\",\n",
    "        \"8\" : \"eight\",\n",
    "        \"9\" : \"nine\",\n",
    "        \"10\" : \"ten\",\n",
    "        \"11\" : \"eleven\",\n",
    "        \"12\" : \"twelve\",\n",
    "        \"13\" : \"thirteen\",\n",
    "        \"14\" : \"forteen\",\n",
    "        \"15\" : \"fifteen\",\n",
    "        \"16\" : \"sixteen\",\n",
    "        \"17\" : \"seventeen\",\n",
    "        \"18\" : \"eighteen\",\n",
    "        \"19\" : \"nineteen\",\n",
    "        \"20\" : \"twenty\",\n",
    "        \"30\" : \"thirty\",\n",
    "        \"40\" : \"forty\",\n",
    "        \"50\" : \"fifty\",\n",
    "        \"60\" : \"sixty\",\n",
    "        \"70\" : \"seventy\",\n",
    "        \"80\" : \"eighty\",\n",
    "        \"90\" : \"ninety\"}\n",
    "\n",
    "def to_digits(N):\n",
    "    if str(N) in words:\n",
    "        return words[str(N)]\n",
    "    elif N <= 99:\n",
    "        return words[str((N // 10) * 10)] + \" \" + words[str(N % 10)]\n",
    "    \n",
    "    return words[str(N // 100)] + \" hundred \" + to_digits(N % 100)"
   ]
  },
  {
   "cell_type": "code",
   "execution_count": 93,
   "id": "ca04598f",
   "metadata": {},
   "outputs": [
    {
     "data": {
      "text/plain": [
       "19"
      ]
     },
     "execution_count": 93,
     "metadata": {},
     "output_type": "execute_result"
    }
   ],
   "source": [
    "total = 0\n",
    "for sln in [to_digits(i).rstrip() for i in range(1, 1000)] + [\"one thousand\"]:\n",
    "    total += len(sln)\n",
    "    \n",
    "len(to_digits(115))"
   ]
  }
 ],
 "metadata": {
  "kernelspec": {
   "display_name": "Python 3",
   "language": "python",
   "name": "python3"
  },
  "language_info": {
   "codemirror_mode": {
    "name": "ipython",
    "version": 3
   },
   "file_extension": ".py",
   "mimetype": "text/x-python",
   "name": "python",
   "nbconvert_exporter": "python",
   "pygments_lexer": "ipython3",
   "version": "3.8.8"
  }
 },
 "nbformat": 4,
 "nbformat_minor": 5
}
