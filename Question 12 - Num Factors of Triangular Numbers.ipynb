{
 "cells": [
  {
   "cell_type": "code",
   "execution_count": 10,
   "metadata": {},
   "outputs": [],
   "source": [
    "def prime_factorization(n):\n",
    "    if n == 1: return [1]\n",
    "    known_primes = set()\n",
    "    prime_factors = []\n",
    "    for i in range(2, n+1):\n",
    "        # if we have reduced our original number to 1\n",
    "        # we exit, factorization complete\n",
    "        if n == 1.: \n",
    "            break\n",
    "        \n",
    "        # if n is prime\n",
    "        if eratosthenes_primality(known_primes, i):\n",
    "            known_primes.add(i)\n",
    "            tmp = []\n",
    "            while n % i == 0:\n",
    "                n = n / i\n",
    "                tmp.append(i)\n",
    "            if tmp:\n",
    "                prime_factors.append(tmp)\n",
    "                \n",
    "    return prime_factors\n",
    "\n",
    "def eratosthenes_primality(known_primes, i):\n",
    "    return all(i % p != 0 for p in known_primes)\n",
    "\n",
    "# start by finding all the prime factors\n",
    "# then fill in all the numbers in between\n",
    "def num_factors(N):\n",
    "    if N == 1: \n",
    "        return 1\n",
    "    prime_factors = prime_factorization(N)\n",
    "    num_factors_ = 0\n",
    "    N = len(prime_factors)\n",
    "    \n",
    "    # note: prime factorization does not count\n",
    "    # 1, so we increment to include that\n",
    "    if N == 1:\n",
    "        return len(prime_factors[0]) + 1 \n",
    "    for i in range(N):\n",
    "        for j in range(i+1, N):\n",
    "            num_factors_ += (len(prime_factors[i]) + 1) * (len(prime_factors[j]) + 1)\n",
    "    return num_factors_\n",
    "\n",
    "def triangle_sum(n):\n",
    "    return int(n*(n+1)/2)\n",
    "\n",
    "def triangular_numbers(N):\n",
    "    return (triangle_sum(i) for i in range(1, N+1))"
   ]
  },
  {
   "cell_type": "code",
   "execution_count": 1,
   "metadata": {},
   "outputs": [],
   "source": [
    "# arbitrarily_large_int = int(1e6)\n",
    "# for triangular_num in triangular_numbers(arbitrarily_large_int):\n",
    "#     num_factors_ = num_factors(triangular_num)\n",
    "#     if num_factors_ >= 500:\n",
    "#         print(triangular_num)\n",
    "#         break"
   ]
  }
 ],
 "metadata": {
  "kernelspec": {
   "display_name": "Python 3",
   "language": "python",
   "name": "python3"
  },
  "language_info": {
   "codemirror_mode": {
    "name": "ipython",
    "version": 3
   },
   "file_extension": ".py",
   "mimetype": "text/x-python",
   "name": "python",
   "nbconvert_exporter": "python",
   "pygments_lexer": "ipython3",
   "version": "3.8.5"
  }
 },
 "nbformat": 4,
 "nbformat_minor": 4
}
