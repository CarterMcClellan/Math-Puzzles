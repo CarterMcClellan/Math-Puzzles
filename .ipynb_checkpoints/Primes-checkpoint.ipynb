{
 "cells": [
  {
   "cell_type": "markdown",
   "metadata": {},
   "source": [
    "# Primes"
   ]
  },
  {
   "cell_type": "markdown",
   "metadata": {},
   "source": [
    "## Sieves\n",
    "**Euclidean Sieve**\n",
    "- A number N is prime, if all primes less than N do not divide evenly into N\n",
    " \n",
    "**Pf by Contradiction**\n",
    "- Assume there is a number less than N which divides N and is not prime. Call said number c. By definition c would be composite and therefore could be expressed as some combination of the other primes. Contradiction."
   ]
  },
  {
   "cell_type": "code",
   "execution_count": 2,
   "metadata": {},
   "outputs": [],
   "source": [
    "def euclidean_sieve(n):\n",
    "    \"\"\" find all primes less than n\"\"\"\n",
    "    known_primes = set()\n",
    "    for i in range(1, n+1):\n",
    "        if i == 1: yield 1\n",
    "        elif euclid_primality(known_primes, i):\n",
    "            known_primes.add(i)\n",
    "            yield i\n",
    "            \n",
    "def euclid_primality(known_primes, i):\n",
    "    return all(i % p != 0 for p in known_primes)"
   ]
  },
  {
   "cell_type": "code",
   "execution_count": 5,
   "metadata": {},
   "outputs": [
    {
     "name": "stdout",
     "output_type": "stream",
     "text": [
      "1, 2, 3, 5, 7, 11, 13, 17, 19, 23, 29, 31, 37, 41, 43, 47, 53, 59, 61, 67, 71, 73, 79, 83, 89, 97, "
     ]
    }
   ],
   "source": [
    "for prime_n in euclidean_sieve(100):\n",
    "    print(prime_n, end=\", \")"
   ]
  },
  {
   "cell_type": "markdown",
   "metadata": {},
   "source": [
    "## Prime Factors"
   ]
  },
  {
   "cell_type": "code",
   "execution_count": 19,
   "metadata": {},
   "outputs": [],
   "source": [
    "def prime_factors(n):\n",
    "    \"\"\" find all prime factors of a number n\"\"\"\n",
    "    known_primes = set()\n",
    "    prime_factors = set()\n",
    "    for i in range(2, n+1):\n",
    "        if n in known_primes or n == 1.: \n",
    "            break\n",
    "        if euclid_primality(known_primes, i):\n",
    "            known_primes.add(i)\n",
    "            if n % i == 0:\n",
    "                n = n / i\n",
    "                prime_factors.add(i)\n",
    "                \n",
    "    return prime_factors"
   ]
  },
  {
   "cell_type": "code",
   "execution_count": 21,
   "metadata": {},
   "outputs": [
    {
     "data": {
      "text/plain": [
       "{2, 3, 7}"
      ]
     },
     "execution_count": 21,
     "metadata": {},
     "output_type": "execute_result"
    }
   ],
   "source": [
    "prime_factors(42)"
   ]
  }
 ],
 "metadata": {
  "kernelspec": {
   "display_name": "Python 3",
   "language": "python",
   "name": "python3"
  },
  "language_info": {
   "codemirror_mode": {
    "name": "ipython",
    "version": 3
   },
   "file_extension": ".py",
   "mimetype": "text/x-python",
   "name": "python",
   "nbconvert_exporter": "python",
   "pygments_lexer": "ipython3",
   "version": "3.7.6"
  }
 },
 "nbformat": 4,
 "nbformat_minor": 2
}
