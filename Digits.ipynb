{
 "cells": [
  {
   "cell_type": "code",
   "execution_count": 14,
   "metadata": {},
   "outputs": [],
   "source": [
    "import math\n",
    "from itertools import permutations"
   ]
  },
  {
   "cell_type": "markdown",
   "metadata": {},
   "source": [
    "### Number of Digits"
   ]
  },
  {
   "cell_type": "code",
   "execution_count": 19,
   "metadata": {},
   "outputs": [],
   "source": [
    "def num_digits(n):\n",
    "    return int(math.log10(n))+1"
   ]
  },
  {
   "cell_type": "code",
   "execution_count": 20,
   "metadata": {},
   "outputs": [],
   "source": [
    "def num_digits_2(n):\n",
    "    return len(str(n))"
   ]
  },
  {
   "cell_type": "markdown",
   "metadata": {},
   "source": [
    "### Pandigital"
   ]
  },
  {
   "cell_type": "code",
   "execution_count": 2,
   "metadata": {},
   "outputs": [],
   "source": [
    "def is_pandigital_1(n):\n",
    "    d = {1: ['1'],\n",
    "         2: ['1', '2'],\n",
    "         3: ['1', '2', '3'],\n",
    "         4: ['1', '2', '3', '4'],\n",
    "         5: ['1', '2', '3', '4', '5'],\n",
    "         6: ['1', '2', '3', '4', '5', '6'],\n",
    "         7: ['1', '2', '3', '4', '5', '6', '7'],\n",
    "         8: ['1', '2', '3', '4', '5', '6', '7', '8'],\n",
    "         9: ['1', '2', '3', '4', '5', '6', '7', '8', '9']}\n",
    "    \n",
    "    s = str(n)\n",
    "    l = len(s)\n",
    "    return sorted(s) == d[l]"
   ]
  },
  {
   "cell_type": "code",
   "execution_count": 3,
   "metadata": {},
   "outputs": [],
   "source": [
    "def is_pandigital_2(n):\n",
    "    d = {1: {'1'},\n",
    "         2: {'1', '2'},\n",
    "         3: {'1', '2', '3'},\n",
    "         4: {'1', '2', '3', '4'},\n",
    "         5: {'1', '2', '3', '4', '5'},\n",
    "         6: {'1', '2', '3', '4', '5', '6'},\n",
    "         7: {'1', '2', '3', '4', '5', '6', '7'},\n",
    "         8: {'1', '2', '3', '4', '5', '6', '7', '8'},\n",
    "         9: {'1', '2', '3', '4', '5', '6', '7', '8', '9'}}\n",
    "    s = str(n)\n",
    "    as_set = set(s)\n",
    "    \n",
    "    if len(s) != len(as_set):\n",
    "        return False\n",
    "    \n",
    "    l = len(s)\n",
    "    return as_set == d[l]"
   ]
  },
  {
   "cell_type": "code",
   "execution_count": 18,
   "metadata": {},
   "outputs": [
    {
     "data": {
      "text/plain": [
       "(362880, 362880)"
      ]
     },
     "execution_count": 18,
     "metadata": {},
     "output_type": "execute_result"
    }
   ],
   "source": [
    "def all_pandigitals(N):\n",
    "    s = [str(i) for i in range(1, N + 1)]\n",
    "    return [int(\"\".join(p)) for p in permutations(s)]\n",
    "\n",
    "len(all_pandigitals(9)), math.factorial(9)"
   ]
  },
  {
   "cell_type": "code",
   "execution_count": 4,
   "metadata": {},
   "outputs": [],
   "source": [
    "def pandigital_benchmark(method, N):\n",
    "    s, e = \"1e{}\".format(N-1), \"1e{}\".format(N)\n",
    "    start = int(eval(s))\n",
    "    end = int(eval(e))\n",
    "    pandigital_nums = [i for i in range(start, end) if method(i)]\n",
    "    assert len(pandigital_nums) == math.factorial(N), \"Misclassified pandigital num\""
   ]
  },
  {
   "cell_type": "code",
   "execution_count": 6,
   "metadata": {},
   "outputs": [
    {
     "name": "stdout",
     "output_type": "stream",
     "text": [
      "CPU times: user 1.03 s, sys: 7.91 ms, total: 1.04 s\n",
      "Wall time: 1.04 s\n"
     ]
    }
   ],
   "source": [
    "%time pandigital_benchmark(is_pandigital_1, 6)"
   ]
  },
  {
   "cell_type": "code",
   "execution_count": 7,
   "metadata": {},
   "outputs": [
    {
     "name": "stdout",
     "output_type": "stream",
     "text": [
      "CPU times: user 1.54 s, sys: 12.1 ms, total: 1.55 s\n",
      "Wall time: 1.55 s\n"
     ]
    }
   ],
   "source": [
    "%time pandigital_benchmark(is_pandigital_2, 6)"
   ]
  }
 ],
 "metadata": {
  "kernelspec": {
   "display_name": "Python 3",
   "language": "python",
   "name": "python3"
  },
  "language_info": {
   "codemirror_mode": {
    "name": "ipython",
    "version": 3
   },
   "file_extension": ".py",
   "mimetype": "text/x-python",
   "name": "python",
   "nbconvert_exporter": "python",
   "pygments_lexer": "ipython3",
   "version": "3.7.6"
  }
 },
 "nbformat": 4,
 "nbformat_minor": 4
}
